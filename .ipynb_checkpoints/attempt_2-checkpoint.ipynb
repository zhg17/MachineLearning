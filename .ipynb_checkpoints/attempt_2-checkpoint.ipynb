{
 "cells": [
  {
   "cell_type": "code",
   "execution_count": null,
   "metadata": {},
   "outputs": [],
   "source": [
    "import pandas as pd\n",
    "raw_data = pd.read_csv('raw_total_fight_data.csv',sep = \";\")\n",
    "\n",
    "raw_data.dropna(how=\"any\", axis = 0, inplace = True)\n",
    "\n",
    "B_WINS = []\n",
    "\n",
    "for index, row in raw_data.iterrows():\n",
    "    blue_fighter = row['B_fighter']\n",
    "    red_fighter = row['R_fighter']\n",
    "    date = row['date']\n",
    "    blue_wins = 0\n",
    "    blue_losses = 0\n",
    "    \n",
    "    print(blue_fighter)\n",
    "    \n",
    "    #iterate through all past fights\n",
    "    for index, row in raw_data.iterrows():\n",
    "        #check that it is a past fight\n",
    "        if (row['date'] < date):\n",
    "            #update blue fighters historical data\n",
    "            if (blue_fighter == row['B_fighter']):\n",
    "                blue_wins += 1\n",
    "    \n",
    "    B_WINS.append(blue_wins)\n",
    "\n",
    "raw_data['B_WINS'] = B_WINS         \n",
    "\n",
    "print(raw_data)"
   ]
  },
  {
   "cell_type": "code",
   "execution_count": null,
   "metadata": {},
   "outputs": [],
   "source": []
  }
 ],
 "metadata": {
  "kernelspec": {
   "display_name": "Python 3",
   "language": "python",
   "name": "python3"
  },
  "language_info": {
   "codemirror_mode": {
    "name": "ipython",
    "version": 3
   },
   "file_extension": ".py",
   "mimetype": "text/x-python",
   "name": "python",
   "nbconvert_exporter": "python",
   "pygments_lexer": "ipython3",
   "version": "3.7.3"
  }
 },
 "nbformat": 4,
 "nbformat_minor": 2
}
