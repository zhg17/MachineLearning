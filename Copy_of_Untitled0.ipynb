{
  "nbformat": 4,
  "nbformat_minor": 0,
  "metadata": {
    "colab": {
      "name": "Copy of Untitled0.ipynb",
      "provenance": [],
      "collapsed_sections": []
    },
    "kernelspec": {
      "name": "python3",
      "display_name": "Python 3"
    }
  },
  "cells": [
    {
      "cell_type": "code",
      "metadata": {
        "id": "kkUDsUHzu_4T",
        "colab_type": "code",
        "colab": {}
      },
      "source": [
        "# Ian starts"
      ],
      "execution_count": 0,
      "outputs": []
    },
    {
      "cell_type": "markdown",
      "metadata": {
        "id": "OSDs_5cEzUNV",
        "colab_type": "text"
      },
      "source": [
        "The UFC (Ultimate Fighting Champion) is a sports promotion company focused on the hosting of mixed martial arts (MMA) competitions around the world. Currently the UFC is the largest sports \n"
      ]
    }
  ]
}